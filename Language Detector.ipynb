{
 "cells": [
  {
   "cell_type": "markdown",
   "id": "7c5da09f",
   "metadata": {},
   "source": [
    "# 1 Loading the Data"
   ]
  },
  {
   "cell_type": "markdown",
   "id": "b4f1e746",
   "metadata": {},
   "source": [
    "the data are extracted from the acts of the European Parliament.\n",
    "The corpus includes versions in 21 European languages.<br>\n",
    "The data can be downloaded here  [here](https://www.statmt.org/europarl/#:~:text=starting%20with%20%22%3C%22)"
   ]
  },
  {
   "cell_type": "code",
   "execution_count": 32,
   "id": "a79295ac",
   "metadata": {},
   "outputs": [],
   "source": [
    "# Import pandas packages\n",
    "import pandas as pd\n",
    "import numpy as np\n",
    "import string\n",
    "from sklearn.model_selection import train_test_split,GridSearchCV\n",
    "from sklearn.feature_extraction.text import TfidfVectorizer\n",
    "from sklearn.feature_extraction.text import CountVectorizer\n",
    "from sklearn.linear_model import LogisticRegression\n",
    "from sklearn.pipeline import Pipeline,make_pipeline\n",
    "from sklearn.feature_extraction.text import TfidfTransformer\n",
    "from sklearn import metrics\n",
    "from sklearn.metrics import classification_report"
   ]
  },
  {
   "cell_type": "code",
   "execution_count": 5,
   "id": "10e58e1c",
   "metadata": {},
   "outputs": [],
   "source": [
    "# Import pandas packages\n",
    "import pandas as pd\n",
    "def readData(language):\n",
    "    data_language = pd.read_csv(\"data\\\\\"+language+\".txt\", sep=\"\\r\")\n",
    "    data_language['language']=language\n",
    "    #pick 20 000 rows rendom for every language\n",
    "    return data_language.sample(n=8000,random_state=5)\n"
   ]
  },
  {
   "cell_type": "code",
   "execution_count": 6,
   "id": "e64ee3b9",
   "metadata": {},
   "outputs": [],
   "source": [
    "data_english=readData(\"english\")\n",
    "data_spanish=readData(\"spanish\")\n",
    "data_french=readData(\"french\")\n",
    "data_italian=readData(\"italian\")\n",
    "data_german=readData(\"german\")"
   ]
  },
  {
   "cell_type": "code",
   "execution_count": 7,
   "id": "a234e875",
   "metadata": {},
   "outputs": [
    {
     "data": {
      "text/html": [
       "<div>\n",
       "<style scoped>\n",
       "    .dataframe tbody tr th:only-of-type {\n",
       "        vertical-align: middle;\n",
       "    }\n",
       "\n",
       "    .dataframe tbody tr th {\n",
       "        vertical-align: top;\n",
       "    }\n",
       "\n",
       "    .dataframe thead th {\n",
       "        text-align: right;\n",
       "    }\n",
       "</style>\n",
       "<table border=\"1\" class=\"dataframe\">\n",
       "  <thead>\n",
       "    <tr style=\"text-align: right;\">\n",
       "      <th></th>\n",
       "      <th>sentence</th>\n",
       "      <th>language</th>\n",
       "    </tr>\n",
       "  </thead>\n",
       "  <tbody>\n",
       "    <tr>\n",
       "      <th>0</th>\n",
       "      <td>Malgré tout, je pense qu'il s'agit d'un succès...</td>\n",
       "      <td>french</td>\n",
       "    </tr>\n",
       "    <tr>\n",
       "      <th>1</th>\n",
       "      <td>La possibilità di stipulare contratti via Inte...</td>\n",
       "      <td>italian</td>\n",
       "    </tr>\n",
       "    <tr>\n",
       "      <th>2</th>\n",
       "      <td>Monsieur le Président, cette semaine, nous avo...</td>\n",
       "      <td>french</td>\n",
       "    </tr>\n",
       "    <tr>\n",
       "      <th>3</th>\n",
       "      <td>Wir hoffen auf eine Verbesserung.</td>\n",
       "      <td>german</td>\n",
       "    </tr>\n",
       "    <tr>\n",
       "      <th>4</th>\n",
       "      <td>Se advirtió a los soldados americanos de la KF...</td>\n",
       "      <td>spanish</td>\n",
       "    </tr>\n",
       "    <tr>\n",
       "      <th>5</th>\n",
       "      <td>En effet, le sport professionnel est devenu un...</td>\n",
       "      <td>french</td>\n",
       "    </tr>\n",
       "    <tr>\n",
       "      <th>6</th>\n",
       "      <td>Thank you very much.</td>\n",
       "      <td>english</td>\n",
       "    </tr>\n",
       "    <tr>\n",
       "      <th>7</th>\n",
       "      <td>Entre los Estados miembros existe una clara di...</td>\n",
       "      <td>spanish</td>\n",
       "    </tr>\n",
       "    <tr>\n",
       "      <th>8</th>\n",
       "      <td>Le persone con cui abbiamo parlato nel corso d...</td>\n",
       "      <td>italian</td>\n",
       "    </tr>\n",
       "    <tr>\n",
       "      <th>9</th>\n",
       "      <td>There clearly is a problem and it is one that ...</td>\n",
       "      <td>english</td>\n",
       "    </tr>\n",
       "  </tbody>\n",
       "</table>\n",
       "</div>"
      ],
      "text/plain": [
       "                                            sentence language\n",
       "0  Malgré tout, je pense qu'il s'agit d'un succès...   french\n",
       "1  La possibilità di stipulare contratti via Inte...  italian\n",
       "2  Monsieur le Président, cette semaine, nous avo...   french\n",
       "3                  Wir hoffen auf eine Verbesserung.   german\n",
       "4  Se advirtió a los soldados americanos de la KF...  spanish\n",
       "5  En effet, le sport professionnel est devenu un...   french\n",
       "6                               Thank you very much.  english\n",
       "7  Entre los Estados miembros existe una clara di...  spanish\n",
       "8  Le persone con cui abbiamo parlato nel corso d...  italian\n",
       "9  There clearly is a problem and it is one that ...  english"
      ]
     },
     "execution_count": 7,
     "metadata": {},
     "output_type": "execute_result"
    }
   ],
   "source": [
    "#concat all the languages into one dataframe\n",
    "data = pd.concat([data_english,data_spanish,data_french,data_italian,data_german],ignore_index=True)\n",
    "#shuffle the data and reset the idex\n",
    "data = data.sample(frac=1,random_state=5).reset_index(drop=True)\n",
    "data.head(10)"
   ]
  },
  {
   "cell_type": "markdown",
   "id": "99ff418d",
   "metadata": {},
   "source": [
    "# 2 Data pre-processing\n",
    "Removing noise from data : \n",
    "- remove punctuations : [!\"#$%&\\'()*+,-./:;<=>?@[\\\\]^_`{|}~]\n",
    "- remove digits \n",
    "- remove uppercase"
   ]
  },
  {
   "cell_type": "code",
   "execution_count": 8,
   "id": "6f720efb",
   "metadata": {
    "scrolled": true
   },
   "outputs": [
    {
     "data": {
      "text/html": [
       "<div>\n",
       "<style scoped>\n",
       "    .dataframe tbody tr th:only-of-type {\n",
       "        vertical-align: middle;\n",
       "    }\n",
       "\n",
       "    .dataframe tbody tr th {\n",
       "        vertical-align: top;\n",
       "    }\n",
       "\n",
       "    .dataframe thead th {\n",
       "        text-align: right;\n",
       "    }\n",
       "</style>\n",
       "<table border=\"1\" class=\"dataframe\">\n",
       "  <thead>\n",
       "    <tr style=\"text-align: right;\">\n",
       "      <th></th>\n",
       "      <th>sentence</th>\n",
       "      <th>language</th>\n",
       "    </tr>\n",
       "  </thead>\n",
       "  <tbody>\n",
       "    <tr>\n",
       "      <th>0</th>\n",
       "      <td>malgré tout  je pense qu il s agit d un succès...</td>\n",
       "      <td>french</td>\n",
       "    </tr>\n",
       "    <tr>\n",
       "      <th>1</th>\n",
       "      <td>la possibilità di stipulare contratti via inte...</td>\n",
       "      <td>italian</td>\n",
       "    </tr>\n",
       "    <tr>\n",
       "      <th>2</th>\n",
       "      <td>monsieur le président  cette semaine  nous avo...</td>\n",
       "      <td>french</td>\n",
       "    </tr>\n",
       "    <tr>\n",
       "      <th>3</th>\n",
       "      <td>wir hoffen auf eine verbesserung</td>\n",
       "      <td>german</td>\n",
       "    </tr>\n",
       "    <tr>\n",
       "      <th>4</th>\n",
       "      <td>se advirtió a los soldados americanos de la kf...</td>\n",
       "      <td>spanish</td>\n",
       "    </tr>\n",
       "    <tr>\n",
       "      <th>5</th>\n",
       "      <td>en effet  le sport professionnel est devenu un...</td>\n",
       "      <td>french</td>\n",
       "    </tr>\n",
       "    <tr>\n",
       "      <th>6</th>\n",
       "      <td>thank you very much</td>\n",
       "      <td>english</td>\n",
       "    </tr>\n",
       "    <tr>\n",
       "      <th>7</th>\n",
       "      <td>entre los estados miembros existe una clara di...</td>\n",
       "      <td>spanish</td>\n",
       "    </tr>\n",
       "    <tr>\n",
       "      <th>8</th>\n",
       "      <td>le persone con cui abbiamo parlato nel corso d...</td>\n",
       "      <td>italian</td>\n",
       "    </tr>\n",
       "    <tr>\n",
       "      <th>9</th>\n",
       "      <td>there clearly is a problem and it is one that ...</td>\n",
       "      <td>english</td>\n",
       "    </tr>\n",
       "  </tbody>\n",
       "</table>\n",
       "</div>"
      ],
      "text/plain": [
       "                                            sentence language\n",
       "0  malgré tout  je pense qu il s agit d un succès...   french\n",
       "1  la possibilità di stipulare contratti via inte...  italian\n",
       "2  monsieur le président  cette semaine  nous avo...   french\n",
       "3                  wir hoffen auf eine verbesserung    german\n",
       "4  se advirtió a los soldados americanos de la kf...  spanish\n",
       "5  en effet  le sport professionnel est devenu un...   french\n",
       "6                               thank you very much   english\n",
       "7  entre los estados miembros existe una clara di...  spanish\n",
       "8  le persone con cui abbiamo parlato nel corso d...  italian\n",
       "9  there clearly is a problem and it is one that ...  english"
      ]
     },
     "execution_count": 8,
     "metadata": {},
     "output_type": "execute_result"
    }
   ],
   "source": [
    "def removeNoise(data):\n",
    "    data[\"sentence\"]=data[\"sentence\"].str.replace('[0-9]', ' ',regex=True)\n",
    "    data[\"sentence\"]=data[\"sentence\"].str.replace('['+string.punctuation+']', ' ',regex=True)\n",
    "    data[\"sentence\"]=data[\"sentence\"].str.lower()\n",
    "    return data\n",
    "removeNoise(data.head(10).copy())\n",
    "    "
   ]
  },
  {
   "cell_type": "markdown",
   "id": "72ecb64c",
   "metadata": {},
   "source": [
    "# 3 splitting Data into Train and Test sets "
   ]
  },
  {
   "cell_type": "code",
   "execution_count": 9,
   "id": "83339161",
   "metadata": {},
   "outputs": [],
   "source": [
    "X,y =data[\"sentence\"],data[\"language\"]\n",
    "X_train,X_test,y_train,y_test = train_test_split(X,y,test_size=0.2,random_state=5)\n"
   ]
  },
  {
   "cell_type": "markdown",
   "id": "a7db4fa3",
   "metadata": {},
   "source": [
    "# 4 Vetorizer  and Model fitting\n",
    "## TF-IDF vs Count Vectorizer\n",
    "\n",
    "We initially wanted to compare the two transformers **Count Vectorizers** and **TF-IDF** .we test them with\n",
    "the estimator **logistic regression** which is widely used to deal with classification issues"
   ]
  },
  {
   "cell_type": "code",
   "execution_count": 10,
   "id": "983d5b9e",
   "metadata": {},
   "outputs": [
    {
     "name": "stdout",
     "output_type": "stream",
     "text": [
      "accuracy_score for countVectorizer :  0.99625\n"
     ]
    }
   ],
   "source": [
    "#Count Vectorizers with LogisticRegression\n",
    "count_vectorizer = CountVectorizer( analyzer='word')\n",
    "model_count_vectorizer = Pipeline([('vectorizer',count_vectorizer),('clf',LogisticRegression(max_iter=500))])\n",
    "\n",
    "model_count_vectorizer.fit(X_train,y_train)\n",
    "accuracyScore= metrics.accuracy_score(y_test,model_count_vectorizer.predict(X_test))\n",
    "print(\"accuracy_score for countVectorizer : \" , accuracyScore)"
   ]
  },
  {
   "cell_type": "code",
   "execution_count": 11,
   "id": "1bb8af29",
   "metadata": {},
   "outputs": [
    {
     "name": "stdout",
     "output_type": "stream",
     "text": [
      "accuracy_score for TF-IDF Vectorizer :  0.99625\n"
     ]
    }
   ],
   "source": [
    "#TF-IDF with LogisticRegression\n",
    "tf_idf_vectorizer = TfidfVectorizer(ngram_range=(1,1),analyzer='word')\n",
    "model_tf_idf = Pipeline([('vectorizer',tf_idf_vectorizer),('clf',LogisticRegression(max_iter=500))])\n",
    "\n",
    "model_tf_idf.fit(X_train,y_train)\n",
    "accuracyScore = metrics.accuracy_score(y_test,model_tf_idf.predict(X_test))\n",
    "print(\"accuracy_score for TF-IDF Vectorizer : \" , accuracyScore)"
   ]
  },
  {
   "cell_type": "markdown",
   "id": "525820ce",
   "metadata": {},
   "source": [
    "#### so like we see , we have a great accuracy score for both vectorizers with  a slight difference  for TF-IDF 99,6% vs 99,5% for countVectorizer \n",
    "\n",
    "so we will continue using the **TF_IDF** in the next sections\n",
    "\n",
    "\n",
    "."
   ]
  },
  {
   "cell_type": "markdown",
   "id": "77c46cad",
   "metadata": {},
   "source": [
    "## Analyzer Char  vs  Word\n",
    "\n",
    "We will compare the two Analyzer **Char** and **word** .we test them with\n",
    "the estimator **logistic regression** and the **TF-IDF** Vectorizer"
   ]
  },
  {
   "cell_type": "code",
   "execution_count": 12,
   "id": "a3d4986c",
   "metadata": {},
   "outputs": [],
   "source": [
    "vectorizer = TfidfVectorizer(ngram_range=(1,1))\n",
    "model= make_pipeline(vectorizer,LogisticRegression(max_iter=500))\n"
   ]
  },
  {
   "cell_type": "code",
   "execution_count": 13,
   "id": "cc912d24",
   "metadata": {},
   "outputs": [
    {
     "data": {
      "text/plain": [
       "GridSearchCV(estimator=Pipeline(steps=[('tfidfvectorizer', TfidfVectorizer()),\n",
       "                                       ('logisticregression',\n",
       "                                        LogisticRegression(max_iter=500))]),\n",
       "             param_grid={'tfidfvectorizer__analyzer': ['word', 'char']})"
      ]
     },
     "execution_count": 13,
     "metadata": {},
     "output_type": "execute_result"
    }
   ],
   "source": [
    "#use the gridSearchCV to facilitate the test\n",
    "params={'tfidfvectorizer__analyzer':[\"word\",\"char\"]}\n",
    "grid = GridSearchCV(model,param_grid=params)\n",
    "grid.fit(X_train,y_train)"
   ]
  },
  {
   "cell_type": "code",
   "execution_count": 14,
   "id": "c8fda531",
   "metadata": {},
   "outputs": [
    {
     "data": {
      "text/html": [
       "<div>\n",
       "<style scoped>\n",
       "    .dataframe tbody tr th:only-of-type {\n",
       "        vertical-align: middle;\n",
       "    }\n",
       "\n",
       "    .dataframe tbody tr th {\n",
       "        vertical-align: top;\n",
       "    }\n",
       "\n",
       "    .dataframe thead th {\n",
       "        text-align: right;\n",
       "    }\n",
       "</style>\n",
       "<table border=\"1\" class=\"dataframe\">\n",
       "  <thead>\n",
       "    <tr style=\"text-align: right;\">\n",
       "      <th></th>\n",
       "      <th>params</th>\n",
       "      <th>rank_test_score</th>\n",
       "      <th>mean_test_score</th>\n",
       "      <th>std_test_score</th>\n",
       "    </tr>\n",
       "    <tr>\n",
       "      <th>Analyzer</th>\n",
       "      <th></th>\n",
       "      <th></th>\n",
       "      <th></th>\n",
       "      <th></th>\n",
       "    </tr>\n",
       "  </thead>\n",
       "  <tbody>\n",
       "    <tr>\n",
       "      <th>word</th>\n",
       "      <td>{'tfidfvectorizer__analyzer': 'word'}</td>\n",
       "      <td>1</td>\n",
       "      <td>0.995813</td>\n",
       "      <td>0.000673</td>\n",
       "    </tr>\n",
       "    <tr>\n",
       "      <th>char</th>\n",
       "      <td>{'tfidfvectorizer__analyzer': 'char'}</td>\n",
       "      <td>2</td>\n",
       "      <td>0.967656</td>\n",
       "      <td>0.001269</td>\n",
       "    </tr>\n",
       "  </tbody>\n",
       "</table>\n",
       "</div>"
      ],
      "text/plain": [
       "                                         params  rank_test_score  \\\n",
       "Analyzer                                                           \n",
       "word      {'tfidfvectorizer__analyzer': 'word'}                1   \n",
       "char      {'tfidfvectorizer__analyzer': 'char'}                2   \n",
       "\n",
       "          mean_test_score  std_test_score  \n",
       "Analyzer                                   \n",
       "word             0.995813        0.000673  \n",
       "char             0.967656        0.001269  "
      ]
     },
     "execution_count": 14,
     "metadata": {},
     "output_type": "execute_result"
    }
   ],
   "source": [
    "#display the resultat of comparaison word vs char \n",
    "results_df = pd.DataFrame(grid.cv_results_)\n",
    "results_df = results_df.sort_values(by=[\"rank_test_score\"])\n",
    "results_df = results_df.set_index(\n",
    "    results_df[\"params\"].apply(lambda x: \"_\".join(str(val) for val in x.values()))\n",
    ").rename_axis(\"Analyzer\")\n",
    "results_df[[\"params\", \"rank_test_score\", \"mean_test_score\", \"std_test_score\"]]"
   ]
  },
  {
   "cell_type": "markdown",
   "id": "8c113f7e",
   "metadata": {},
   "source": [
    "**so like we see , we have again a  great accuracy score for both char and word which is beter by 3% . which surpise me because  knowing that all languages here have in common almost the same alphabetic and the main difference is how they appear in the word so I thought that char will have better accurarcy**\n",
    "\n",
    "we will continue using the **word Analyzer** in the next sections\n",
    "\n",
    "\n",
    "."
   ]
  },
  {
   "cell_type": "markdown",
   "id": "281a79cc",
   "metadata": {},
   "source": [
    "## ngram 1-gram 2-gram or  3-gram \n",
    "\n",
    "We will compare the two ngram modeling from **1-gram** to **3-gram** .we test them with\n",
    "the estimator **logistic regression** and the **TF-IDF** Vectorizer and **word Analyzer**"
   ]
  },
  {
   "cell_type": "code",
   "execution_count": 15,
   "id": "dad4aa4e",
   "metadata": {},
   "outputs": [
    {
     "data": {
      "text/plain": [
       "GridSearchCV(estimator=Pipeline(steps=[('tfidfvectorizer', TfidfVectorizer()),\n",
       "                                       ('logisticregression',\n",
       "                                        LogisticRegression(max_iter=500))]),\n",
       "             param_grid={'tfidfvectorizer__ngram_range': ((1, 1), (1, 2),\n",
       "                                                          (1, 3))})"
      ]
     },
     "execution_count": 15,
     "metadata": {},
     "output_type": "execute_result"
    }
   ],
   "source": [
    "vectorizer = TfidfVectorizer(analyzer=\"word\")\n",
    "model= make_pipeline(vectorizer,LogisticRegression(max_iter=500))\n",
    "\n",
    "#use the gridSearchCV to facilitate the test\n",
    "params={'tfidfvectorizer__ngram_range': ((1, 1), (1, 2),(1, 3))}\n",
    "grid = GridSearchCV(model,param_grid=params)\n",
    "grid.fit(X_train,y_train)"
   ]
  },
  {
   "cell_type": "code",
   "execution_count": 16,
   "id": "c6ef5735",
   "metadata": {},
   "outputs": [
    {
     "data": {
      "text/html": [
       "<div>\n",
       "<style scoped>\n",
       "    .dataframe tbody tr th:only-of-type {\n",
       "        vertical-align: middle;\n",
       "    }\n",
       "\n",
       "    .dataframe tbody tr th {\n",
       "        vertical-align: top;\n",
       "    }\n",
       "\n",
       "    .dataframe thead th {\n",
       "        text-align: right;\n",
       "    }\n",
       "</style>\n",
       "<table border=\"1\" class=\"dataframe\">\n",
       "  <thead>\n",
       "    <tr style=\"text-align: right;\">\n",
       "      <th></th>\n",
       "      <th>params</th>\n",
       "      <th>rank_test_score</th>\n",
       "      <th>mean_test_score</th>\n",
       "      <th>std_test_score</th>\n",
       "    </tr>\n",
       "    <tr>\n",
       "      <th>Analyzer</th>\n",
       "      <th></th>\n",
       "      <th></th>\n",
       "      <th></th>\n",
       "      <th></th>\n",
       "    </tr>\n",
       "  </thead>\n",
       "  <tbody>\n",
       "    <tr>\n",
       "      <th>(1, 2)</th>\n",
       "      <td>{'tfidfvectorizer__ngram_range': (1, 2)}</td>\n",
       "      <td>1</td>\n",
       "      <td>0.995875</td>\n",
       "      <td>0.000660</td>\n",
       "    </tr>\n",
       "    <tr>\n",
       "      <th>(1, 1)</th>\n",
       "      <td>{'tfidfvectorizer__ngram_range': (1, 1)}</td>\n",
       "      <td>2</td>\n",
       "      <td>0.995813</td>\n",
       "      <td>0.000673</td>\n",
       "    </tr>\n",
       "    <tr>\n",
       "      <th>(1, 3)</th>\n",
       "      <td>{'tfidfvectorizer__ngram_range': (1, 3)}</td>\n",
       "      <td>3</td>\n",
       "      <td>0.995781</td>\n",
       "      <td>0.000765</td>\n",
       "    </tr>\n",
       "  </tbody>\n",
       "</table>\n",
       "</div>"
      ],
      "text/plain": [
       "                                            params  rank_test_score  \\\n",
       "Analyzer                                                              \n",
       "(1, 2)    {'tfidfvectorizer__ngram_range': (1, 2)}                1   \n",
       "(1, 1)    {'tfidfvectorizer__ngram_range': (1, 1)}                2   \n",
       "(1, 3)    {'tfidfvectorizer__ngram_range': (1, 3)}                3   \n",
       "\n",
       "          mean_test_score  std_test_score  \n",
       "Analyzer                                   \n",
       "(1, 2)           0.995875        0.000660  \n",
       "(1, 1)           0.995813        0.000673  \n",
       "(1, 3)           0.995781        0.000765  "
      ]
     },
     "execution_count": 16,
     "metadata": {},
     "output_type": "execute_result"
    }
   ],
   "source": [
    "#display the resultat of comparaison 1-gram , 2-gram 3-gram\n",
    "results_df = pd.DataFrame(grid.cv_results_)\n",
    "results_df = results_df.sort_values(by=[\"rank_test_score\"])\n",
    "results_df = results_df.set_index(\n",
    "    results_df[\"params\"].apply(lambda x: \"_\".join(str(val) for val in x.values()))\n",
    ").rename_axis(\"Analyzer\")\n",
    "results_df[[\"params\", \"rank_test_score\", \"mean_test_score\", \"std_test_score\"]]"
   ]
  },
  {
   "cell_type": "markdown",
   "id": "de475ff7",
   "metadata": {},
   "source": [
    "Prediction accuracy of 99.5875% was achieved on test data using a model trained with 2-gram Word logistic regression Model<br>\n",
    "Prediction accuracy of 99.5813% was achieved on test data using a model trained with 1-gram Word logistic regression Model<br>\n",
    "Prediction accuracy of 99.5781% was achieved on test data using a model trained with 3-gram Word logistic regression Model<br>\n",
    "\n"
   ]
  },
  {
   "cell_type": "code",
   "execution_count": 17,
   "id": "39305647",
   "metadata": {},
   "outputs": [
    {
     "data": {
      "text/plain": [
       "GridSearchCV(estimator=Pipeline(steps=[('tfidfvectorizer', TfidfVectorizer()),\n",
       "                                       ('logisticregression',\n",
       "                                        LogisticRegression(max_iter=500))]),\n",
       "             param_grid={'tfidfvectorizer__analyzer': ['word', 'char'],\n",
       "                         'tfidfvectorizer__ngram_range': ((1, 1), (1, 2),\n",
       "                                                          (1, 3))})"
      ]
     },
     "execution_count": 17,
     "metadata": {},
     "output_type": "execute_result"
    }
   ],
   "source": [
    "vectorizer = TfidfVectorizer(analyzer=\"word\")\n",
    "model= make_pipeline(vectorizer,LogisticRegression(max_iter=500))\n",
    "\n",
    "#use the gridSearchCV to facilitate the test\n",
    "params={'tfidfvectorizer__ngram_range': ((1, 1), (1, 2),(1, 3)),'tfidfvectorizer__analyzer':[\"word\",\"char\"]}\n",
    "grid = GridSearchCV(model,param_grid=params)\n",
    "grid.fit(X_train,y_train)"
   ]
  },
  {
   "cell_type": "code",
   "execution_count": 18,
   "id": "a373a21d",
   "metadata": {
    "scrolled": true
   },
   "outputs": [
    {
     "data": {
      "text/html": [
       "<div>\n",
       "<style scoped>\n",
       "    .dataframe tbody tr th:only-of-type {\n",
       "        vertical-align: middle;\n",
       "    }\n",
       "\n",
       "    .dataframe tbody tr th {\n",
       "        vertical-align: top;\n",
       "    }\n",
       "\n",
       "    .dataframe thead th {\n",
       "        text-align: right;\n",
       "    }\n",
       "</style>\n",
       "<table border=\"1\" class=\"dataframe\">\n",
       "  <thead>\n",
       "    <tr style=\"text-align: right;\">\n",
       "      <th></th>\n",
       "      <th>params</th>\n",
       "      <th>rank_test_score</th>\n",
       "      <th>mean_test_score</th>\n",
       "      <th>std_test_score</th>\n",
       "    </tr>\n",
       "    <tr>\n",
       "      <th>Analyzer|n_gram</th>\n",
       "      <th></th>\n",
       "      <th></th>\n",
       "      <th></th>\n",
       "      <th></th>\n",
       "    </tr>\n",
       "  </thead>\n",
       "  <tbody>\n",
       "    <tr>\n",
       "      <th>char_(1, 3)</th>\n",
       "      <td>{'tfidfvectorizer__analyzer': 'char', 'tfidfve...</td>\n",
       "      <td>1</td>\n",
       "      <td>0.996438</td>\n",
       "      <td>0.000468</td>\n",
       "    </tr>\n",
       "    <tr>\n",
       "      <th>word_(1, 2)</th>\n",
       "      <td>{'tfidfvectorizer__analyzer': 'word', 'tfidfve...</td>\n",
       "      <td>2</td>\n",
       "      <td>0.995875</td>\n",
       "      <td>0.000660</td>\n",
       "    </tr>\n",
       "    <tr>\n",
       "      <th>word_(1, 1)</th>\n",
       "      <td>{'tfidfvectorizer__analyzer': 'word', 'tfidfve...</td>\n",
       "      <td>3</td>\n",
       "      <td>0.995813</td>\n",
       "      <td>0.000673</td>\n",
       "    </tr>\n",
       "    <tr>\n",
       "      <th>word_(1, 3)</th>\n",
       "      <td>{'tfidfvectorizer__analyzer': 'word', 'tfidfve...</td>\n",
       "      <td>4</td>\n",
       "      <td>0.995781</td>\n",
       "      <td>0.000765</td>\n",
       "    </tr>\n",
       "    <tr>\n",
       "      <th>char_(1, 2)</th>\n",
       "      <td>{'tfidfvectorizer__analyzer': 'char', 'tfidfve...</td>\n",
       "      <td>5</td>\n",
       "      <td>0.994563</td>\n",
       "      <td>0.000636</td>\n",
       "    </tr>\n",
       "    <tr>\n",
       "      <th>char_(1, 1)</th>\n",
       "      <td>{'tfidfvectorizer__analyzer': 'char', 'tfidfve...</td>\n",
       "      <td>6</td>\n",
       "      <td>0.967656</td>\n",
       "      <td>0.001269</td>\n",
       "    </tr>\n",
       "  </tbody>\n",
       "</table>\n",
       "</div>"
      ],
      "text/plain": [
       "                                                            params  \\\n",
       "Analyzer|n_gram                                                      \n",
       "char_(1, 3)      {'tfidfvectorizer__analyzer': 'char', 'tfidfve...   \n",
       "word_(1, 2)      {'tfidfvectorizer__analyzer': 'word', 'tfidfve...   \n",
       "word_(1, 1)      {'tfidfvectorizer__analyzer': 'word', 'tfidfve...   \n",
       "word_(1, 3)      {'tfidfvectorizer__analyzer': 'word', 'tfidfve...   \n",
       "char_(1, 2)      {'tfidfvectorizer__analyzer': 'char', 'tfidfve...   \n",
       "char_(1, 1)      {'tfidfvectorizer__analyzer': 'char', 'tfidfve...   \n",
       "\n",
       "                 rank_test_score  mean_test_score  std_test_score  \n",
       "Analyzer|n_gram                                                    \n",
       "char_(1, 3)                    1         0.996438        0.000468  \n",
       "word_(1, 2)                    2         0.995875        0.000660  \n",
       "word_(1, 1)                    3         0.995813        0.000673  \n",
       "word_(1, 3)                    4         0.995781        0.000765  \n",
       "char_(1, 2)                    5         0.994563        0.000636  \n",
       "char_(1, 1)                    6         0.967656        0.001269  "
      ]
     },
     "execution_count": 18,
     "metadata": {},
     "output_type": "execute_result"
    }
   ],
   "source": [
    "#display the resultat of comparaison 1-gram , 2-gram 3-gram\n",
    "results_df = pd.DataFrame(grid.cv_results_)\n",
    "results_df = results_df.sort_values(by=[\"rank_test_score\"])\n",
    "results_df = results_df.set_index(\n",
    "    results_df[\"params\"].apply(lambda x: \"_\".join(str(val) for val in x.values()))\n",
    ").rename_axis(\"Analyzer|n_gram\")\n",
    "results_df[[\"params\", \"rank_test_score\", \"mean_test_score\", \"std_test_score\"]]"
   ]
  },
  {
   "cell_type": "markdown",
   "id": "27e5e774",
   "metadata": {},
   "source": [
    "**after we decide to test all Vectorizer options together, \n",
    "we finded that our model performs even better with analyzer = char and n_gram = (1,3)**\n",
    "\n",
    "In the next chapter, we will see all the metrics and we will try to analyse them\n",
    "\n",
    "."
   ]
  },
  {
   "cell_type": "markdown",
   "id": "9cce8d78",
   "metadata": {},
   "source": [
    "# 5 Analysis and Comparison of all the models"
   ]
  },
  {
   "cell_type": "code",
   "execution_count": 30,
   "id": "bed05910",
   "metadata": {},
   "outputs": [],
   "source": [
    "y_predicted= grid.predict(X_test)\n",
    "accuracyScore = metrics.accuracy_score(y_test,y_predicted)"
   ]
  },
  {
   "cell_type": "code",
   "execution_count": 41,
   "id": "2932813e",
   "metadata": {},
   "outputs": [],
   "source": [
    "matrix = metrics.confusion_matrix(y_test,y_predicted)\n"
   ]
  },
  {
   "cell_type": "code",
   "execution_count": 40,
   "id": "fcc0adf5",
   "metadata": {},
   "outputs": [
    {
     "data": {
      "image/png": "[encoded data removed]",
      "text/plain": [
       "<Figure size 432x288 with 2 Axes>"
      ]
     },
     "metadata": {
      "needs_background": "light"
     },
     "output_type": "display_data"
    }
   ],
   "source": [
    "import seaborn as sns\n",
    "import matplotlib.pyplot as plt     \n",
    "ax= plt.subplot()\n",
    "sns.heatmap(matrix, annot=True, fmt='g', ax=ax);  #annot=True to annotate cells, ftm='g' to disable scientific notation\n",
    "# labels, title and ticks\n",
    "ax.set_xlabel('Predicted labels');\n",
    "ax.set_ylabel('True labels'); \n",
    "ax.set_title('Confusion Matrix'); \n",
    "ax.xaxis.set_ticklabels(grid.classes_); \n",
    "ax.yaxis.set_ticklabels(grid.classes_);"
   ]
  },
  {
   "cell_type": "markdown",
   "id": "58379aab",
   "metadata": {},
   "source": [
    "**like we see ,our model perfrmance is greate , we have only**  :\n",
    "- 2 french strings were missclassified as english\n",
    "- 1 german strings were missclassified as english\n",
    "- 1 italien strings were missclassified as english\n",
    "- 1 spanish strings were missclassified as english\n",
    "- 1 english strings were missclassified as german\n",
    "- 1 english strings were missclassified as spanish\n"
   ]
  },
  {
   "cell_type": "markdown",
   "id": "9a462920",
   "metadata": {},
   "source": [
    "# 6 SAVE and LOAD the model"
   ]
  },
  {
   "cell_type": "code",
   "execution_count": 20,
   "id": "d7655155",
   "metadata": {},
   "outputs": [
    {
     "data": {
      "text/plain": [
       "array([[0.08116446, 0.13281215, 0.10479645, 0.38451908, 0.29670786]])"
      ]
     },
     "execution_count": 20,
     "metadata": {},
     "output_type": "execute_result"
    }
   ],
   "source": [
    "#first we will save our best model to use him later\n",
    "bestparams=grid.best_params_\n",
    "bestModel=grid.best_estimator_\n",
    "bestModel.fit(X_test,y_test)\n"
   ]
  },
  {
   "cell_type": "code",
   "execution_count": 22,
   "id": "bea8a26c",
   "metadata": {},
   "outputs": [],
   "source": [
    "import pickle\n",
    "saveModel = open('myModel.pckl','wb')\n",
    "pickle.dump(bestModel,saveModel)\n",
    "saveModel.close()\n"
   ]
  },
  {
   "cell_type": "code",
   "execution_count": 23,
   "id": "dba11af5",
   "metadata": {},
   "outputs": [],
   "source": [
    "import string\n",
    "import pickle\n",
    "import pandas as pd\n",
    "#load saved model\n",
    "saveModel =open('myModel.pckl','rb')\n",
    "bestModel = pickle.load(saveModel)\n",
    "saveModel.close()"
   ]
  },
  {
   "cell_type": "markdown",
   "id": "d1d4a545",
   "metadata": {},
   "source": [
    "# 7 Graphical interface "
   ]
  },
  {
   "cell_type": "code",
   "execution_count": 26,
   "id": "7c941729",
   "metadata": {},
   "outputs": [],
   "source": [
    "import tkinter as tk\n",
    "\n",
    "\n",
    "\n",
    "def languageDetector(inputText):\n",
    "    import string\n",
    "    import pickle\n",
    "    global bestModel\n",
    "    global resultatFrame\n",
    "\n",
    "    \n",
    "    #remove noise\n",
    "    inputText =inputText.replace('[0-9]', ' ')\n",
    "    inputText=inputText.replace('['+string.punctuation+']', ' ')\n",
    "    inputText=inputText.lower()\n",
    "    \n",
    "    #predection\n",
    "    predectedLanguage = bestModel.predict([inputText])\n",
    "    probability = bestModel.predict_proba([inputText])\n",
    "    allProb= pd.DataFrame(probability, bestModel=model.classes_)\n",
    "    \n",
    "    #dispaly resultat\n",
    "    \n",
    "    for child in resultatFrame.winfo_children():\n",
    "        child.destroy()\n",
    "\n",
    "    \n",
    "    predResult_label = tk.Label(resultatFrame,fg=\"#12183d\",bg='#f5f5f5',font=(\"Arial\", 15),\n",
    "                           padx=50,pady=50,\n",
    "                           text=\"this text is written in \"+predectedLanguage)\n",
    "    \n",
    "    predResult_label.pack()\n",
    "\n",
    "    resultatFrame.pack()\n",
    "    \n",
    "    \n",
    "#load saved model\n",
    "saveModel =open('myModel.pckl','rb')\n",
    "bestModel = pickle.load(saveModel)\n",
    "saveModel.close()    \n",
    "\n",
    "#windows\n",
    "app = tk.Tk()\n",
    "app.title(\"Language Detector\")\n",
    "app.minsize(1020, 700)\n",
    "width_value = app.winfo_screenwidth()\n",
    "height_value = app.winfo_screenheight()\n",
    "app.geometry(str(width_value) + \"x\" + str(height_value))\n",
    "app.configure(bg='#f5f5f5')\n",
    "\n",
    "\n",
    "#frames\n",
    "middleFrame = tk.Frame(app, background='#f5f5f5', width=700, height=height_value)\n",
    "\n",
    "title_label = tk.Label(middleFrame,fg=\"#12183d\",bg='#f5f5f5',font=(\"Arial\", 15),padx=50,pady=50, text=\"Welcome to our Language Detector \\n Our model support 5 languages (en,es,fr,it,de)\")\n",
    "title_label.pack()\n",
    "\n",
    "# Create text widget and specify size.\n",
    "textArea = tk.Text(middleFrame, height = 10, width = 70)\n",
    "textArea.pack()\n",
    "\n",
    "# Create button for detect text.\n",
    "btnDetect = tk.Button(middleFrame, text = \"Detect\",bg=\"#6378ff\",fg=\"white\",font=(\"Arial\", 15),pady=5,width = 50 ,command= lambda: languageDetector(textArea.get(\"1.0\",'end-1c')))\n",
    "btnDetect.pack(pady=10)\n",
    "#resultat frame\n",
    "resultatFrame =tk.Frame(middleFrame)\n",
    "\n",
    "\n",
    "\n",
    "middleFrame.pack()\n",
    "\n",
    "\n",
    "app.mainloop()\n",
    "\n",
    "\n"
   ]
  }
 ],
 "metadata": {
  "kernelspec": {
   "display_name": "Python 3",
   "language": "python",
   "name": "python3"
  },
  "language_info": {
   "codemirror_mode": {
    "name": "ipython",
    "version": 3
   },
   "file_extension": ".py",
   "mimetype": "text/x-python",
   "name": "python",
   "nbconvert_exporter": "python",
   "pygments_lexer": "ipython3",
   "version": "3.8.8"
  }
 },
 "nbformat": 4,
 "nbformat_minor": 5
}
